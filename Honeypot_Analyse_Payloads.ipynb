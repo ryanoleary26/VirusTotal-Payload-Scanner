{
  "nbformat": 4,
  "nbformat_minor": 0,
  "metadata": {
    "colab": {
      "name": "Honeypot Analyse Payloads.ipynb",
      "provenance": [],
      "collapsed_sections": [],
      "toc_visible": true,
      "mount_file_id": "1ljn8eKV-4keAZzkFkCt_YVXmJ2ghhs4K",
      "authorship_tag": "ABX9TyO1noGLYAJkPV8tO6e8I7HI",
      "include_colab_link": true
    },
    "kernelspec": {
      "name": "python3",
      "display_name": "Python 3"
    }
  },
  "cells": [
    {
      "cell_type": "markdown",
      "metadata": {
        "id": "view-in-github",
        "colab_type": "text"
      },
      "source": [
        "<a href=\"https://colab.research.google.com/github/ryanoleary26/VirusTotal-Payload-Scanner/blob/master/Honeypot_Analyse_Payloads.ipynb\" target=\"_parent\"><img src=\"https://colab.research.google.com/assets/colab-badge.svg\" alt=\"Open In Colab\"/></a>"
      ]
    },
    {
      "cell_type": "markdown",
      "metadata": {
        "id": "kzzcbjbk5S4K",
        "colab_type": "text"
      },
      "source": [
        "# Analysing Honeypot Payloads with the VirusTotal API\n",
        "\n",
        "Any files that are given to this script in a .ZIP file will be indivually sent to VirusTotal for scanning using [their v2 API](https://developers.virustotal.com/reference).\n",
        "\n",
        "#Features\n",
        "\n",
        "\n",
        "\n",
        "1. Displays scan reports from over [70 different Antivirus products](https://support.virustotal.com/hc/en-us/articles/115002146809-Contributors).\n",
        "2. Provides a URL to each indivudual scan performed.\n",
        "3. Provides statitistics on total scans performed and total positive results.\n",
        "4. Ideal for analysis of malicious files collected through honeypots.\n",
        "5. Basic API quota usage detection\n",
        "6. Option to show scan results from specific Antivirus scanners instead of an overall summary.\n",
        "\n",
        "#Prerequesites\n",
        "\n",
        "1. Python\n",
        "2. [Requests](https://requests.readthedocs.io/en/master/) module\n",
        "\n",
        "#How to use\n",
        "\n",
        "1. To use this script for yourself you will need to obtain a free public API key by [creating an account on the VirusTotal website](https://www.virustotal.com/gui/join-us).\n",
        "2. Enter your API key on line 8, see below:\n",
        "\n",
        "  ```\n",
        "  #Enter API key here ########\n",
        "  api_key = '<API KEY HERE>' #\n",
        "  ############################\n",
        "  ```\n",
        "3. Enter the file path of the ZIP file you wish to use on line 16, see below. Note that currentlyy files that are contained within sub-directories of the ZIP file are currently not scanned. To get round this seperate groups of files into seperate ZIP files until I implement this feature.\n",
        "```\n",
        "  #Enter the location of your .ZIP file here ######\n",
        "  with ZipFile('<FILE PATH HERE>', 'r') as zipObj:#\n",
        "  #################################################\n",
        "```\n",
        "4. Line 12 contains a dictionary of Antivirus (AV) names to include in the scan output. Add or remove Antivirus names from this dictionary as you please. The default configuration will include Avast, AVG, BitDefender, FireEye, F-Secure, McAfee and Microsoft in the specific scan result output. This **IS** case sensitive.\n",
        "```\n",
        "#Customise the scan output by changing the included AV names here. This IS case and space sensitive.\n",
        "antiviruses = {'Avast', 'AVG', 'BitDefender', 'FireEye', 'F-Secure', 'Malwarebytes', 'McAfee', 'Microsoft'}\n",
        "```\n",
        "5. Run the script and enjoy the sexy Antivirus results - Happy Virus Hunting!\n",
        "\n",
        "\n",
        "\n",
        "\n",
        "\n",
        "\n"
      ]
    },
    {
      "cell_type": "code",
      "metadata": {
        "id": "QdqatQaB-wmE",
        "colab_type": "code",
        "outputId": "9d2c00d8-7df0-4e31-ce34-6121b38aa66e",
        "colab": {
          "base_uri": "https://localhost:8080/",
          "height": 486
        }
      },
      "source": [
        "import json\n",
        "from zipfile import ZipFile\n",
        "import time\n",
        "import requests\n",
        "import os\n",
        "import sys\n",
        "\n",
        "#Enter API key here ##########################################################\n",
        "api_key = '8d9600ee37bd48859cc0fbbe597f56c73ed197f52f869610b0b8f445637df79c' #\n",
        "##############################################################################  \n",
        "\n",
        "#Customise the scan output by changing the included AV names here. This IS case and space sensitive.########\n",
        "antiviruses = {'Avast', 'AVG', 'BitDefender', 'FireEye', 'F-Secure', 'Malwarebytes', 'McAfee', 'Microsoft'}#\n",
        "############################################################################################################\n",
        "try:\n",
        "  #Enter the location of your .ZIP file here ###########################\n",
        "  with ZipFile('/content/drive/My Drive/Downloads.zip', 'r') as zipObj:#\n",
        "  ######################################################################\n",
        "\n",
        "    # Extract all the contents of zip file in different directory\n",
        "    hashList = zipObj.namelist()\n",
        "\n",
        "  for payload in hashList:\n",
        "      #Makes request to virustotal to scan file\n",
        "      url = 'https://www.virustotal.com/vtapi/v2/file/report'\n",
        "      params = {'apikey': api_key, 'resource': payload}\n",
        "      try:\n",
        "        response = requests.get(url, params=params)\n",
        "        #print('HTTP Response Code:', response.status_code)\n",
        "        vt_response = response.json()\n",
        "      except:\n",
        "        if response.status_code == 204:\n",
        "        #Handles the 204 response code\n",
        "          print('Recieved HTTP Response Code:', response.status_code, '-- Indicates that API usage quota has been used up.\\nRefer to the VirusTotal API documentation for error description.\\nDocumentation link: https://developers.virustotal.com/reference#api-responses')\n",
        "          break\n",
        "        else:\n",
        "          print('JSON Decoder Error')\n",
        "          break\n",
        "      \n",
        "      #Parsing the JSON response\n",
        "      print('Scanning Payload: ', payload)\n",
        "      if vt_response['response_code'] == 1:\n",
        "        print('Total Scans:', vt_response['total'])\n",
        "        print('=== Scan Results ===')\n",
        "        for av in antiviruses: #Loops through selected AVs for detection results\n",
        "          try:\n",
        "            print(av, '-> Detected:', vt_response['scans'][av]['detected'], ' Result:', vt_response['scans'][av]['result'])\n",
        "          except KeyError:\n",
        "            #AVs included in 'antiviruses' might not always return scan results, which will cause a TypeError\n",
        "            print(av, 'could not return any test results.')\n",
        "        print('====================')\n",
        "        print('Total Positive Results:', vt_response['positives'])\n",
        "        print('Scan Permalink: ', vt_response['permalink'], '\\n')\n",
        "      \n",
        "      #Handles other response codes\n",
        "      elif vt_response['response_code'] != 1:\n",
        "        print('=======================================================\\n',vt_response['verbose_msg'],'\\n')\n",
        "\n",
        "      #Sleeps script to comply with API user agreement\n",
        "      time.sleep(15)\n",
        "\n",
        "#Generic exception handling :/\n",
        "except Exception as error:\n",
        "  print(error)\n",
        "  \n",
        "print('Scan complete')"
      ],
      "execution_count": 12,
      "outputs": [
        {
          "output_type": "stream",
          "text": [
            "Scanning Payload:  0013d4e2ee63e2be651c99071bb3207c5acef4b9aa1e135e8f19eba656e68d1a\n",
            "Total Scans: 58\n",
            "=== Scan Results ===\n",
            "F-Secure -> Detected: False  Result: None\n",
            "AVG -> Detected: False  Result: None\n",
            "Microsoft -> Detected: False  Result: None\n",
            "FireEye -> Detected: False  Result: None\n",
            "BitDefender -> Detected: False  Result: None\n",
            "Malwarebytes -> Detected: False  Result: None\n",
            "McAfee -> Detected: False  Result: None\n",
            "Avast -> Detected: False  Result: None\n",
            "====================\n",
            "Total Positive Results: 0\n",
            "Scan Permalink:  https://www.virustotal.com/file/0013d4e2ee63e2be651c99071bb3207c5acef4b9aa1e135e8f19eba656e68d1a/analysis/1588351732/ \n",
            "\n"
          ],
          "name": "stdout"
        },
        {
          "output_type": "error",
          "ename": "KeyboardInterrupt",
          "evalue": "ignored",
          "traceback": [
            "\u001b[0;31m---------------------------------------------------------------------------\u001b[0m",
            "\u001b[0;31mKeyboardInterrupt\u001b[0m                         Traceback (most recent call last)",
            "\u001b[0;32m<ipython-input-12-dbcf44b02933>\u001b[0m in \u001b[0;36m<module>\u001b[0;34m()\u001b[0m\n\u001b[1;32m     58\u001b[0m \u001b[0;34m\u001b[0m\u001b[0m\n\u001b[1;32m     59\u001b[0m       \u001b[0;31m#Sleeps script to comply with API user agreement\u001b[0m\u001b[0;34m\u001b[0m\u001b[0;34m\u001b[0m\u001b[0;34m\u001b[0m\u001b[0m\n\u001b[0;32m---> 60\u001b[0;31m       \u001b[0mtime\u001b[0m\u001b[0;34m.\u001b[0m\u001b[0msleep\u001b[0m\u001b[0;34m(\u001b[0m\u001b[0;36m15\u001b[0m\u001b[0;34m)\u001b[0m\u001b[0;34m\u001b[0m\u001b[0;34m\u001b[0m\u001b[0m\n\u001b[0m\u001b[1;32m     61\u001b[0m \u001b[0;34m\u001b[0m\u001b[0m\n\u001b[1;32m     62\u001b[0m \u001b[0;31m#Generic exception handling :/\u001b[0m\u001b[0;34m\u001b[0m\u001b[0;34m\u001b[0m\u001b[0;34m\u001b[0m\u001b[0m\n",
            "\u001b[0;31mKeyboardInterrupt\u001b[0m: "
          ]
        }
      ]
    }
  ]
}